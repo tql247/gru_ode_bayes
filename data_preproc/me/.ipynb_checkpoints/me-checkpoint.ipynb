{
 "cells": [
  {
   "cell_type": "code",
   "execution_count": 1,
   "metadata": {},
   "outputs": [],
   "source": [
    "import numpy as np\n",
    "import pandas as pd\n",
    "from sklearn.model_selection import train_test_split\n",
    "import os"
   ]
  },
  {
   "cell_type": "code",
   "execution_count": 55,
   "metadata": {
    "tags": []
   },
   "outputs": [
    {
     "name": "stdout",
     "output_type": "stream",
     "text": [
      "147\n"
     ]
    }
   ],
   "source": [
    "_root = \"../../gru_ode_bayes/datasets/me/\"\n",
    "_N = pd.read_excel(_root + 'JSTdatasetR4.xlsx', sheet_name=1)\n",
    "\n",
    "_N = _N.loc[_N['country'] == 'Japan']\\\n",
    "       .reset_index()\\\n",
    "       .drop(['index', 'country', 'iso', 'ifs', 'peg_type', 'peg_base'], axis = 1)\\\n",
    "       .fillna(0)\\\n",
    "       .to_csv('data.csv', index=False)\n",
    "\n",
    "_N = pd.read_csv('data.csv')[\"year\"].nunique()\n",
    "\n",
    "print(_N)"
   ]
  },
  {
   "cell_type": "code",
   "execution_count": 62,
   "metadata": {},
   "outputs": [],
   "source": [
    "_full_idx = np.arange(_N)\n",
    "_Nfolds = 5\n",
    "\n",
    "np.random.seed(432)\n",
    "\n",
    "for fold in range(_Nfolds):\n",
    "    train_idx, test_idx = train_test_split(_full_idx, test_size=0.1)\n",
    "    train_idx, val_idx = train_test_split(train_idx, test_size=0.2)\n",
    "    _fold_dir = f\"{_root}/datasets/me_{fold}/\"\n",
    "    if not os.path.exists(_fold_dir):\n",
    "        os.makedirs(_fold_dir)\n",
    "    np.save(_fold_dir+f\"train_idx.npy\",train_idx)\n",
    "    np.save(_fold_dir+f\"val_idx.npy\",val_idx)\n",
    "    np.save(_fold_dir+f\"test_idx.npy\",test_idx)"
   ]
  },
  {
   "cell_type": "code",
   "execution_count": null,
   "metadata": {},
   "outputs": [],
   "source": []
  }
 ],
 "metadata": {
  "kernelspec": {
   "display_name": "Python 3.8.2 64-bit",
   "language": "python",
   "name": "python38264bit9daf360dec88400b8df0b209562a48c0"
  },
  "language_info": {
   "codemirror_mode": {
    "name": "ipython",
    "version": 3
   },
   "file_extension": ".py",
   "mimetype": "text/x-python",
   "name": "python",
   "nbconvert_exporter": "python",
   "pygments_lexer": "ipython3",
   "version": "3.8.2"
  }
 },
 "nbformat": 4,
 "nbformat_minor": 2
}
